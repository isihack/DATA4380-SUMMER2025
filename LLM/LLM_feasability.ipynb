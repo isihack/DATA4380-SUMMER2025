{
  "nbformat": 4,
  "nbformat_minor": 0,
  "metadata": {
    "colab": {
      "provenance": []
    },
    "kernelspec": {
      "name": "python3",
      "display_name": "Python 3"
    },
    "language_info": {
      "name": "python"
    }
  },
  "cells": [
    {
      "cell_type": "markdown",
      "metadata": {
        "id": "6HgvAEeKw2QS"
      },
      "source": [
        "# Creating a Semantic Layer on a CSV Dataset\n",
        "\n",
        "This notebook demonstrates how to implement a semantic layer on top of a structured CSV file using natural language interfaces powered by tools like PandasAI. The semantic layer adds context and meaning to raw data, enabling more intuitive and accurate interactions through large language models.\n",
        "\n",
        "---\n",
        "\n",
        "## What is a Semantic Layer?\n",
        "\n",
        "A semantic layer serves as a bridge between raw tabular data and a natural language interface. It adds metadata and human-readable meaning to otherwise ambiguous column names and values, making it easier for language models (such as GPT-3.5) to interpret and generate accurate insights.\n",
        "\n",
        "---\n",
        "\n",
        "## Why Use a Semantic Layer?\n",
        "\n",
        "- **Adds Context and Meaning**  \n",
        "  Helps clarify what each column in the dataset represents (e.g., \"FBS\" becomes \"Fasting Blood Sugar\").\n",
        "\n",
        "- **Improves Language Model Understanding**  \n",
        "  Large Language Models perform more effectively when data is semantically labeled and contextualized.\n",
        "\n",
        "- **Reusable Across Sessions**  \n",
        "  Once defined, the semantic layer can be used across multiple sessions and queries without needing to redefine the context.\n",
        "\n",
        "---\n",
        "\n",
        "## Dataset Overview\n",
        "\n",
        "This example uses a heart disease dataset:https://www.kaggle.com/datasets/arezaei81/heartcsv that includes features such as:\n",
        "\n",
        "- Age\n",
        "- Sex\n",
        "- Chest Pain Type\n",
        "- Resting Blood Pressure\n",
        "- Serum Cholesterol\n",
        "- Fasting Blood Sugar\n",
        "- Resting ECG\n",
        "- Maximum Heart Rate\n",
        "- ST Depression (Oldpeak)\n",
        "- Slope of ST Segment\n",
        "- Exercise-Induced Angina\n",
        "- Target Variable (Heart Disease Presence)\n",
        "\n",
        "---\n",
        "\n",
        "## Objectives\n",
        "\n",
        "- Attach a language model (e.g., GPT-3.5 Turbo) to a DataFrame\n",
        "- Define and apply semantic context to the dataset\n",
        "- Use natural language to query the data\n",
        "- Generate statistical insights and visualizations without manually coding SQL or Pandas operations\n",
        "\n",
        "---\n",
        "\n",
        "## Tools and Libraries\n",
        "\n",
        "- `pandas`\n",
        "- `pandasai`\n",
        "- `pandasai_litellm` (LiteLLM wrapper for OpenAI/GPT models)\n"
      ]
    },
    {
      "cell_type": "code",
      "execution_count": null,
      "metadata": {
        "id": "N7h8Q3xxw2QW"
      },
      "outputs": [],
      "source": [
        "import pandasai as pai"
      ]
    },
    {
      "cell_type": "code",
      "execution_count": null,
      "metadata": {
        "id": "Mkgpiw2nw2QX",
        "outputId": "025c1288-8934-4120-a658-df2d25f481f0"
      },
      "outputs": [
        {
          "data": {
            "text/html": [
              "<div>\n",
              "<style scoped>\n",
              "    .dataframe tbody tr th:only-of-type {\n",
              "        vertical-align: middle;\n",
              "    }\n",
              "\n",
              "    .dataframe tbody tr th {\n",
              "        vertical-align: top;\n",
              "    }\n",
              "\n",
              "    .dataframe thead th {\n",
              "        text-align: right;\n",
              "    }\n",
              "</style>\n",
              "<table border=\"1\" class=\"dataframe\">\n",
              "  <thead>\n",
              "    <tr style=\"text-align: right;\">\n",
              "      <th></th>\n",
              "      <th>age</th>\n",
              "      <th>sex</th>\n",
              "      <th>cp</th>\n",
              "      <th>trestbps</th>\n",
              "      <th>chol</th>\n",
              "      <th>fbs</th>\n",
              "      <th>restecg</th>\n",
              "      <th>thalach</th>\n",
              "      <th>exang</th>\n",
              "      <th>oldpeak</th>\n",
              "      <th>slope</th>\n",
              "      <th>ca</th>\n",
              "      <th>thal</th>\n",
              "      <th>target</th>\n",
              "    </tr>\n",
              "  </thead>\n",
              "  <tbody>\n",
              "    <tr>\n",
              "      <th>0</th>\n",
              "      <td>63</td>\n",
              "      <td>1</td>\n",
              "      <td>3</td>\n",
              "      <td>145</td>\n",
              "      <td>233</td>\n",
              "      <td>1</td>\n",
              "      <td>0</td>\n",
              "      <td>150</td>\n",
              "      <td>0</td>\n",
              "      <td>2.3</td>\n",
              "      <td>0</td>\n",
              "      <td>0</td>\n",
              "      <td>1</td>\n",
              "      <td>1</td>\n",
              "    </tr>\n",
              "    <tr>\n",
              "      <th>1</th>\n",
              "      <td>37</td>\n",
              "      <td>1</td>\n",
              "      <td>2</td>\n",
              "      <td>130</td>\n",
              "      <td>250</td>\n",
              "      <td>0</td>\n",
              "      <td>1</td>\n",
              "      <td>187</td>\n",
              "      <td>0</td>\n",
              "      <td>3.5</td>\n",
              "      <td>0</td>\n",
              "      <td>0</td>\n",
              "      <td>2</td>\n",
              "      <td>1</td>\n",
              "    </tr>\n",
              "    <tr>\n",
              "      <th>2</th>\n",
              "      <td>41</td>\n",
              "      <td>0</td>\n",
              "      <td>1</td>\n",
              "      <td>130</td>\n",
              "      <td>204</td>\n",
              "      <td>0</td>\n",
              "      <td>0</td>\n",
              "      <td>172</td>\n",
              "      <td>0</td>\n",
              "      <td>1.4</td>\n",
              "      <td>2</td>\n",
              "      <td>0</td>\n",
              "      <td>2</td>\n",
              "      <td>1</td>\n",
              "    </tr>\n",
              "    <tr>\n",
              "      <th>3</th>\n",
              "      <td>56</td>\n",
              "      <td>1</td>\n",
              "      <td>1</td>\n",
              "      <td>120</td>\n",
              "      <td>236</td>\n",
              "      <td>0</td>\n",
              "      <td>1</td>\n",
              "      <td>178</td>\n",
              "      <td>0</td>\n",
              "      <td>0.8</td>\n",
              "      <td>2</td>\n",
              "      <td>0</td>\n",
              "      <td>2</td>\n",
              "      <td>1</td>\n",
              "    </tr>\n",
              "    <tr>\n",
              "      <th>4</th>\n",
              "      <td>57</td>\n",
              "      <td>0</td>\n",
              "      <td>0</td>\n",
              "      <td>120</td>\n",
              "      <td>354</td>\n",
              "      <td>0</td>\n",
              "      <td>1</td>\n",
              "      <td>163</td>\n",
              "      <td>1</td>\n",
              "      <td>0.6</td>\n",
              "      <td>2</td>\n",
              "      <td>0</td>\n",
              "      <td>2</td>\n",
              "      <td>1</td>\n",
              "    </tr>\n",
              "  </tbody>\n",
              "</table>\n",
              "</div>"
            ],
            "text/plain": [
              "   age  sex  cp  trestbps  chol  fbs  restecg  thalach  exang  oldpeak  slope  \\\n",
              "0   63    1   3       145   233    1        0      150      0      2.3      0   \n",
              "1   37    1   2       130   250    0        1      187      0      3.5      0   \n",
              "2   41    0   1       130   204    0        0      172      0      1.4      2   \n",
              "3   56    1   1       120   236    0        1      178      0      0.8      2   \n",
              "4   57    0   0       120   354    0        1      163      1      0.6      2   \n",
              "\n",
              "   ca  thal  target  \n",
              "0   0     1       1  \n",
              "1   0     2       1  \n",
              "2   0     2       1  \n",
              "3   0     2       1  \n",
              "4   0     2       1  "
            ]
          },
          "execution_count": 4,
          "metadata": {},
          "output_type": "execute_result"
        }
      ],
      "source": [
        "# Load the heart disease dataset\n",
        "file_df = pai.read_csv(\"heart.csv\")\n",
        "\n",
        "# Display the first few rows\n",
        "file_df.head()"
      ]
    },
    {
      "cell_type": "markdown",
      "metadata": {
        "id": "nnNlzRg7w2QY"
      },
      "source": [
        "## Creating the Semantic Layer\n",
        "\n",
        "To build the semantic layer, the following components are required:\n",
        "\n",
        "- **`path`**:  \n",
        "  A string that defines the location of the dataset. It must follow the format `'organization/dataset'`.\n",
        "\n",
        "- **`name`**:  \n",
        "  A clear and descriptive name for the dataset.\n",
        "\n",
        "- **`df`**:  \n",
        "  The actual DataFrame object that holds the dataset.\n",
        "\n",
        "- **`description`**:  \n",
        "  A brief summary that provides context or an overview of the dataset.\n",
        "\n",
        "- **`columns`**:  \n",
        "  A list of dictionaries, where each dictionary defines metadata for a specific column using the following structure:\n",
        "\n",
        "  ```python\n",
        "  {\n",
        "      \"name\": \"column_name\",\n",
        "      \"type\": \"column_type\",      # Accepted types: string, number, date, datetime\n",
        "      \"description\": \"column_description\"\n",
        "  }\n"
      ]
    },
    {
      "cell_type": "code",
      "execution_count": null,
      "metadata": {
        "id": "yf3sfDOlw2QY",
        "outputId": "06d38b23-8228-4da6-e50f-3ca4e540bb2c"
      },
      "outputs": [
        {
          "name": "stdout",
          "output_type": "stream",
          "text": [
            "Index(['age', 'sex', 'cp', 'trestbps', 'chol', 'fbs', 'restecg', 'thalach',\n",
            "       'exang', 'oldpeak', 'slope', 'ca', 'thal', 'target'],\n",
            "      dtype='object')\n"
          ]
        }
      ],
      "source": [
        "print(file_df.columns)"
      ]
    },
    {
      "cell_type": "code",
      "execution_count": null,
      "metadata": {
        "id": "U9PfHGY1w2QY",
        "outputId": "53dc24f2-752b-4ef1-8ab6-f7487eed6516"
      },
      "outputs": [
        {
          "name": "stdout",
          "output_type": "stream",
          "text": [
            "Dataset saved successfully to path: organization/heart-v2\n"
          ]
        }
      ],
      "source": [
        "dataset = pai.create(\n",
        "    path=\"organization/heart-v2\",\n",
        "    description=\"Heart Disease Dataset\",\n",
        "    df=file_df,\n",
        "    columns=[\n",
        "        {\n",
        "            \"name\": \"age\",\n",
        "            \"type\": \"integer\",\n",
        "            \"description\": \"Age of the patient in years\"\n",
        "        },\n",
        "        {\n",
        "            \"name\": \"sex\",\n",
        "            \"type\": \"string\",\n",
        "            \"description\": \"Gender of the patient (1: Male, 0: Female)\"\n",
        "        },\n",
        "        {\n",
        "            \"name\": \"cp\",\n",
        "            \"type\": \"integer\",\n",
        "            \"description\": \"Chest pain type (1: Typical Angina, 2: Atypical Angina, 3: Non-anginal Pain, 4: Asymptomatic)\"\n",
        "        },\n",
        "        {\n",
        "            \"name\": \"trestbps\",\n",
        "            \"type\": \"integer\",\n",
        "            \"description\": \"Resting blood pressure in mm Hg\"\n",
        "        },\n",
        "        {\n",
        "            \"name\": \"chol\",\n",
        "            \"type\": \"integer\",\n",
        "            \"description\": \"Serum cholesterol in mg/dl\"\n",
        "        },\n",
        "        {\n",
        "            \"name\": \"fbs\",\n",
        "            \"type\": \"integer\",\n",
        "            \"description\": \"Fasting blood sugar (1: if > 120 mg/dl, 0: otherwise)\"\n",
        "        },\n",
        "        {\n",
        "            \"name\": \"restecg\",\n",
        "            \"type\": \"integer\",\n",
        "            \"description\": \"Resting electrocardiographic results (0: Normal, 1: ST-T wave abnormality, 2: Left ventricular hypertrophy)\"\n",
        "        },\n",
        "        {\n",
        "            \"name\": \"thalach\",\n",
        "            \"type\": \"integer\",\n",
        "            \"description\": \"Maximum heart rate achieved\"\n",
        "        },\n",
        "        {\n",
        "            \"name\": \"exang\",\n",
        "            \"type\": \"integer\",\n",
        "            \"description\": \"Exercise induced angina (1: Yes, 0: No)\"\n",
        "        },\n",
        "        {\n",
        "            \"name\": \"oldpeak\",\n",
        "            \"type\": \"float\",\n",
        "            \"description\": \"ST depression induced by exercise relative to rest\"\n",
        "        },\n",
        "        {\n",
        "            \"name\": \"slope\",\n",
        "            \"type\": \"integer\",\n",
        "            \"description\": \"Slope of the peak exercise ST segment (1: Upsloping, 2: Flat, 3: Downsloping)\"\n",
        "        },\n",
        "        {\n",
        "            \"name\": \"ca\",\n",
        "            \"type\": \"integer\",\n",
        "            \"description\": \"Number of major vessels (0-3) colored by fluoroscopy\"\n",
        "        },\n",
        "        {\n",
        "            \"name\": \"thal\",\n",
        "            \"type\": \"integer\",\n",
        "            \"description\": \"Thalassemia (3: Normal, 6: Fixed defect, 7: Reversible defect)\"\n",
        "        },\n",
        "        {\n",
        "            \"name\": \"target\",\n",
        "            \"type\": \"integer\",\n",
        "            \"description\": \"Heart disease presence (0: No disease, 1: Disease present)\"\n",
        "        }\n",
        "    ]\n",
        ")"
      ]
    },
    {
      "cell_type": "markdown",
      "metadata": {
        "id": "JE-xqOGxw2QZ"
      },
      "source": [
        "## Loading the Semantic DataFrame\n",
        "\n",
        "Once the DataFrame has been saved with its semantic layer, it can be reloaded in any session using the `load()` method. This functionality enables:\n",
        "\n",
        "- **Preservation of Context**  \n",
        "  Maintains semantic information such as column descriptions and types across sessions, eliminating the need to redefine metadata.\n",
        "\n",
        "- **Natural Language Interaction**  \n",
        "  Allows you to ask meaningful questions about your data using plain English.\n",
        "\n",
        "- **Improved Analysis and Visualizations**  \n",
        "  Enhances the accuracy of responses and charts by providing clear context for the underlying data.\n"
      ]
    },
    {
      "cell_type": "code",
      "execution_count": null,
      "metadata": {
        "id": "RoGLii2sw2QZ",
        "outputId": "94715621-eff5-4db9-c45d-203511e00c79"
      },
      "outputs": [
        {
          "name": "stdout",
          "output_type": "stream",
          "text": [
            "Dataset loaded successfully.\n"
          ]
        }
      ],
      "source": [
        "dataset = pai.load(\"organization/heart-v2\")"
      ]
    },
    {
      "cell_type": "markdown",
      "metadata": {
        "id": "upga8yqh0JuF"
      },
      "source": [
        "## Chatting with Your DataFrame\n",
        "\n",
        "With the semantic layer in place, you can now interact with your DataFrame using natural language through the `chat()` method.\n",
        "\n",
        "PandasAI enables seamless integration with various large language models (LLMs), allowing for intuitive exploration and analysis of data. In this example, we are using the `LiteLLM` interface to connect to an OpenAI mod.g., GPT-3.5 Turbo).\n",
        "\n",
        "This functionality supports:\n",
        "\n",
        "- Natural language queries about the dataset  \n",
        "- Automatic generation of summaries, insights, and visualizations  \n",
        "- An accessible and user-friendly interface for data exploration\n"
      ]
    },
    {
      "cell_type": "code",
      "execution_count": null,
      "metadata": {
        "outputId": "ae576122-bd2e-4ee0-cfa1-f4f6d2e59c7e",
        "id": "xSWDmW120JuG"
      },
      "outputs": [
        {
          "name": "stdout",
          "output_type": "stream",
          "text": [
            "Dataset loaded successfully.\n",
            "0.2136779565595617\n"
          ]
        }
      ],
      "source": [
        "from pandasai_litellm.litellm import LiteLLM\n",
        "\n",
        "# Initialize LiteLLM with your OpenAI key and model\n",
        "llm = LiteLLM(model=\"gpt-4.1-mini\", api_key=\"OPENAI_API_KEY\")  # replace this securely\n",
        "\n",
        "# Configure PandasAI to use the LLM\n",
        "pai.config.set({\n",
        "    \"llm\": llm\n",
        "})\n",
        "\n",
        "# Load the semantically enhanced dataset\n",
        "dataset = pai.load(\"organization/heart-v2\")\n",
        "\n",
        "# Ask a question\n",
        "response = dataset.chat(\"What is the correlation between age and cholesterol?\")\n",
        "\n",
        "print(response)"
      ]
    },
    {
      "cell_type": "code",
      "execution_count": null,
      "metadata": {
        "id": "t4EJ4wOq0JuG"
      },
      "outputs": [],
      "source": [
        "!pip install pandas pandasai pandasai-litellm --quiet"
      ]
    },
    {
      "cell_type": "code",
      "execution_count": null,
      "metadata": {
        "id": "QFsJB6Xkw2Qa",
        "outputId": "f3904516-e9ae-4a54-ac28-deede6479c73"
      },
      "outputs": [
        {
          "name": "stderr",
          "output_type": "stream",
          "text": [
            "/tmp/ipykernel_83684/3961350583.py:12: DeprecationWarning: \n",
            "********************************************************************************\n",
            "\u001b[1;33mDEPRECATION WARNING:\u001b[0m\n",
            "SmartDataframe will soon be deprecated. Please use df.chat() instead.\n",
            "********************************************************************************\n",
            "\n",
            "  df_ai = SmartDataframe(df, config={\"llm\": llm})\n"
          ]
        },
        {
          "name": "stdout",
          "output_type": "stream",
          "text": [
            "target      1.000000\n",
            "cp          0.433798\n",
            "thalach     0.421741\n",
            "slope       0.345877\n",
            "restecg     0.137230\n",
            "fbs        -0.028046\n",
            "chol       -0.085239\n",
            "trestbps   -0.144931\n",
            "age        -0.225439\n",
            "sex        -0.280937\n",
            "thal       -0.344029\n",
            "ca         -0.391724\n",
            "oldpeak    -0.430696\n",
            "exang      -0.436757\n",
            "Name: target, dtype: float64\n"
          ]
        }
      ],
      "source": [
        "\n",
        "from pandasai_litellm.litellm import LiteLLM\n",
        "from pandasai import SmartDataframe\n",
        "import pandas as pd\n",
        "\n",
        "# Step 4: Set up GPT-3.5 Turbo LLM\n",
        "llm = LiteLLM(\n",
        "    model=\"gpt-3.5-turbo\",\n",
        "    api_key=\"OPENAI_API_KEY\"  #  OpenAI API key\n",
        ")\n",
        "\n",
        "# Step 5: Wrap your DataFrame\n",
        "df_ai = SmartDataframe(df, config={\"llm\": llm})\n",
        "\n",
        "prompt = \"\"\"\n",
        "You are a data analyst assistant working with a heart disease dataset.\n",
        "The dataset contains the following columns:\n",
        "\n",
        "- Age: Age of the patient in years\n",
        "- Sex: Gender of the patient (M or F)\n",
        "- ChestPainType: Type of chest pain (ATA, NAP, ASY, TA)\n",
        "- RestingBP: Resting blood pressure (mm Hg)\n",
        "- Cholesterol: Serum cholesterol (mg/dl)\n",
        "- FastingBS: Fasting blood sugar (1: if >120 mg/dl, else 0)\n",
        "- RestingECG: ECG results (Normal, ST, LVH)\n",
        "- MaxHR: Maximum heart rate achieved\n",
        "- ExerciseAngina: Exercise-induced angina (Y/N)\n",
        "- Oldpeak: ST depression induced by exercise\n",
        "- ST_Slope: Slope of ST segment (Up, Flat, Down)\n",
        "- HeartDisease: Target variable (1 = presence of heart disease, 0 = no disease)\n",
        "\n",
        "Please analyze and summarize any patterns, correlations, or potential predictors of heart disease in this dataset.\n",
        "\n",
        "Start by identifying which features are most correlated with HeartDisease.\n",
        "Then, feel free to suggest visualizations or comparisons (e.g. cholesterol vs. age, MaxHR by gender, etc.).\n",
        "\"\"\"\n",
        "response = df_ai.chat(prompt)\n",
        "print(response)\n"
      ]
    },
    {
      "cell_type": "markdown",
      "metadata": {
        "id": "nYF7zMIQw2Qb"
      },
      "source": [
        "This output highlights features like cp (chest pain type), thalach (maximum heart rate), and slope as having the strongest positive correlations with heart disease, while variables like exang (exercise-induced angina) and oldpeak show strong negative correlations."
      ]
    },
    {
      "cell_type": "markdown",
      "metadata": {
        "id": "J_4pd21Pw2Qb"
      },
      "source": [
        "## Transition to the `df.chat()` Approach\n",
        "\n",
        "Following the deprecation warning issued when using `SmartDataframe`, I decided to adopt the newer and recommended `df.chat()` interface for interacting with the dataset.\n",
        "\n",
        "### Reason for the Change\n",
        "\n",
        "The warning clearly indicated that `SmartDataframe` will soon be deprecated. To ensure long-term compatibility and to align with the latest API design, transitioning to `df.chat()` was the logical next step.\n",
        "\n",
        "### Updated Implementation\n",
        "\n",
        "The updated approach attaches the LLM configuration directly to the DataFrame:\n",
        "\n",
        "```python\n",
        "df.chat = pandasai.Chat(df, config={\"llm\": llm})\n",
        "response = df.chat(\"What features are most correlated with heart disease?\")\n"
      ]
    },
    {
      "cell_type": "markdown",
      "metadata": {
        "id": "BE3WnwCBw2Qb"
      },
      "source": [
        "## Continuing the Analysis with Natural Language Queries\n",
        "\n",
        "After successfully setting up the semantic layer and transitioning to the `df.chat()` interface, I proceeded to interact with the dataset by asking additional questions in natural language.\n",
        "\n",
        "This approach allowed for a more intuitive and flexible way to explore the data, identify patterns, and generate visualizations without the need to write complex code.\n",
        "\n",
        "By leveraging the language model, I was able to:\n",
        "\n",
        "- Query relationships between variables such as cholesterol, age, and heart disease presence\n",
        "- Generate visual comparisons by sex and condition\n",
        "- Explore potential risk factors and their distributions across subgroups\n",
        "\n",
        "This conversational interaction significantly enhanced the efficiency and accessibility of the data exploration process.\n"
      ]
    },
    {
      "cell_type": "code",
      "execution_count": null,
      "metadata": {
        "id": "MwfsbrAXw2Qb",
        "outputId": "75b54bfb-eb30-480c-c0bb-9e55b739f553"
      },
      "outputs": [
        {
          "name": "stdout",
          "output_type": "stream",
          "text": [
            "     feature  correlation\n",
            "0      exang    -0.435316\n",
            "1         cp     0.432367\n",
            "2    oldpeak    -0.429275\n",
            "3    thalach     0.420349\n",
            "4         ca    -0.390431\n",
            "5      slope     0.344736\n",
            "6       thal    -0.342894\n",
            "7        sex    -0.280009\n",
            "8        age    -0.224695\n",
            "9   trestbps    -0.144453\n",
            "10   restecg     0.136777\n",
            "11      chol    -0.084958\n",
            "12       fbs    -0.027953\n"
          ]
        }
      ],
      "source": [
        "# 1. What features are most correlated with heart disease?\n",
        "print(dataset.chat(\"What features are most correlated with heart disease?\"))"
      ]
    },
    {
      "cell_type": "code",
      "execution_count": null,
      "metadata": {
        "id": "5o6CZPzmw2Qb",
        "outputId": "7913641b-a470-4b71-8e68-097a183a7f00"
      },
      "outputs": [
        {
          "data": {
            "text/plain": [
              "ChartResponse(type='chart', value='exports/charts/temp_chart_890a756a-562d-48d5-8cb3-efdd99d65ec2.png')"
            ]
          },
          "execution_count": 27,
          "metadata": {},
          "output_type": "execute_result"
        },
        {
          "data": {
            "image/png": "[encoded data removed]",
            "text/plain": [
              "<Figure size 800x600 with 1 Axes>"
            ]
          },
          "metadata": {},
          "output_type": "display_data"
        }
      ],
      "source": [
        "# 2. Show a scatter plot of age vs cholesterol colored by target\n",
        "dataset.chat(\"Show a scatter plot of age vs cholesterol colored by target\")"
      ]
    }
  ]
}